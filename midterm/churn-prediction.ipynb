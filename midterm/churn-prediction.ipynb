{
 "cells": [
  {
   "cell_type": "code",
   "execution_count": 1,
   "metadata": {},
   "outputs": [],
   "source": [
    "import pandas as pd"
   ]
  },
  {
   "cell_type": "code",
   "execution_count": 2,
   "metadata": {},
   "outputs": [],
   "source": [
    "# Load the data\n",
    "df = pd.read_csv(\"supermarket.csv\")\n",
    "\n",
    "# Convert the order date to datetime\n",
    "df[\"Order Date\"] = pd.to_datetime(df[\"Order Date\"])\n",
    "df[\"Ship Date\"] = pd.to_datetime(df[\"Ship Date\"])"
   ]
  },
  {
   "cell_type": "code",
   "execution_count": 3,
   "metadata": {},
   "outputs": [
    {
     "name": "stdout",
     "output_type": "stream",
     "text": [
      "  Customer ID  Is Churn\n",
      "0    AA-10315         1\n",
      "1    AA-10375         0\n",
      "2    AA-10480         1\n",
      "3    AA-10645         1\n",
      "4    AB-10015         1\n"
     ]
    }
   ],
   "source": [
    "# Calculate the maximum order date (latest date in the dataset)\n",
    "max_order_date = df[\"Order Date\"].max()\n",
    "\n",
    "# Calculate the maximum order date per customer\n",
    "customer_profile = df.groupby(\"Customer ID\")[\"Order Date\"].max().reset_index()\n",
    "customer_profile.rename(columns={\"Order Date\": \"Latest Order Date\"}, inplace=True)\n",
    "\n",
    "# Define churn period (e.g., 6 months)\n",
    "churn_period = pd.Timedelta(\"180 days\")\n",
    "\n",
    "# Store the max_order_date in the DataFrame\n",
    "customer_profile[\"Max Order Date\"] = max_order_date\n",
    "\n",
    "# Calculate the difference between max_order_date and customer_profile['Order Date']\n",
    "customer_profile[\"Order Difference\"] = (\n",
    "    customer_profile[\"Max Order Date\"] - customer_profile[\"Latest Order Date\"]\n",
    ")\n",
    "\n",
    "# Create an \"Is Churn\" column in customer_profile DataFrame\n",
    "customer_profile[\"Is Churn\"] = customer_profile[\"Order Difference\"] >= churn_period\n",
    "\n",
    "# Drop 'Order Difference' and 'Max Order Date' columns\n",
    "customer_profile.drop(\n",
    "    columns=[\"Order Difference\", \"Max Order Date\", \"Latest Order Date\"], inplace=True\n",
    ")\n",
    "\n",
    "# Convert boolean values to 1 (churn) or 0 (not churn)\n",
    "customer_profile[\"Is Churn\"] = customer_profile[\"Is Churn\"].astype(int)\n",
    "\n",
    "# Print the first few rows to verify\n",
    "print(customer_profile.head())"
   ]
  },
  {
   "cell_type": "code",
   "execution_count": 4,
   "metadata": {},
   "outputs": [],
   "source": [
    "# Calculate Recency\n",
    "recency = df.groupby(\"Customer ID\")[\"Order Date\"].max().reset_index()\n",
    "recency[\"Recency\"] = (max_order_date - recency[\"Order Date\"]).dt.days\n",
    "recency.drop(columns=[\"Order Date\"], inplace=True)\n",
    "\n",
    "# Calculate Frequency\n",
    "frequency = df.groupby(\"Customer ID\").size().reset_index(name=\"Frequency\")\n",
    "\n",
    "# Calculate Duration of customer relationship\n",
    "duration = df.groupby(\"Customer ID\")[\"Order Date\"].agg([\"min\", \"max\"]).reset_index()\n",
    "duration[\"Duration\"] = (duration[\"max\"] - duration[\"min\"]).dt.days\n",
    "duration.drop(columns=[\"min\", \"max\"], inplace=True)\n",
    "\n",
    "# Merge these dataframes with customer_profile\n",
    "customer_profile = pd.merge(customer_profile, recency, on=\"Customer ID\", how=\"left\")\n",
    "customer_profile = pd.merge(customer_profile, frequency, on=\"Customer ID\", how=\"left\")\n",
    "customer_profile = pd.merge(customer_profile, duration, on=\"Customer ID\", how=\"left\")"
   ]
  },
  {
   "cell_type": "code",
   "execution_count": 5,
   "metadata": {},
   "outputs": [],
   "source": [
    "# Calculate total revenue per customer\n",
    "revenue = df.groupby(\"Customer ID\")[\"Sales\"].sum().reset_index(name=\"Total Revenue\")\n",
    "\n",
    "# Merge this dataframe with customer_profile\n",
    "customer_profile = pd.merge(customer_profile, revenue, on=\"Customer ID\", how=\"left\")"
   ]
  },
  {
   "cell_type": "code",
   "execution_count": 6,
   "metadata": {},
   "outputs": [],
   "source": [
    "# Calculate total quantity per customer\n",
    "quantity = (\n",
    "    df.groupby(\"Customer ID\")[\"Quantity\"].sum().reset_index(name=\"Total Quantity\")\n",
    ")\n",
    "\n",
    "# Merge this dataframe with customer_profile\n",
    "customer_profile = pd.merge(customer_profile, quantity, on=\"Customer ID\", how=\"left\")"
   ]
  },
  {
   "cell_type": "code",
   "execution_count": 7,
   "metadata": {},
   "outputs": [],
   "source": [
    "# Calculate total profit per customer\n",
    "profit = df.groupby(\"Customer ID\")[\"Profit\"].sum().reset_index(name=\"Total Profit\")\n",
    "\n",
    "# Merge this dataframe with customer_profile\n",
    "customer_profile = pd.merge(customer_profile, profit, on=\"Customer ID\", how=\"left\")"
   ]
  },
  {
   "cell_type": "code",
   "execution_count": 8,
   "metadata": {},
   "outputs": [],
   "source": [
    "# Calculate total discount per customer\n",
    "discount = (\n",
    "    df.groupby(\"Customer ID\")[\"Discount N\"].sum().reset_index(name=\"Total Discount\")\n",
    ")\n",
    "\n",
    "# Merge this dataframe with customer_profile\n",
    "customer_profile = pd.merge(customer_profile, discount, on=\"Customer ID\", how=\"left\")"
   ]
  },
  {
   "cell_type": "code",
   "execution_count": 9,
   "metadata": {},
   "outputs": [],
   "source": [
    "# Calculate total shipping cost per customer\n",
    "shipping_cost = (\n",
    "    df.groupby(\"Customer ID\")[\"Shipping cost\"]\n",
    "    .sum()\n",
    "    .reset_index(name=\"Total Shipping Cost\")\n",
    ")\n",
    "\n",
    "# Merge this dataframe with customer_profile\n",
    "customer_profile = pd.merge(\n",
    "    customer_profile, shipping_cost, on=\"Customer ID\", how=\"left\"\n",
    ")"
   ]
  },
  {
   "cell_type": "code",
   "execution_count": 10,
   "metadata": {},
   "outputs": [],
   "source": [
    "# Calculate shipping duration per order\n",
    "df[\"Shipping Duration\"] = (df[\"Ship Date\"] - df[\"Order Date\"]).dt.days\n",
    "\n",
    "# Calculate average shipping duration per customer\n",
    "avg_shipping_duration = (\n",
    "    df.groupby(\"Customer ID\")[\"Shipping Duration\"]\n",
    "    .mean()\n",
    "    .reset_index(name=\"Average Shipping Duration\")\n",
    ")\n",
    "\n",
    "# Merge this dataframe with customer_profile\n",
    "customer_profile = pd.merge(\n",
    "    customer_profile, avg_shipping_duration, on=\"Customer ID\", how=\"left\"\n",
    ")"
   ]
  },
  {
   "cell_type": "code",
   "execution_count": 11,
   "metadata": {},
   "outputs": [],
   "source": [
    "# List of columns to count unique values\n",
    "columns_to_count_unique = [\n",
    "    \"Category\",\n",
    "    \"Sub-Category\",\n",
    "    \"Vendor Name\",\n",
    "    \"Product ID\",\n",
    "    \"Segment\",\n",
    "    \"Customer Type\",\n",
    "    \"Member card\",\n",
    "    \"Region\",\n",
    "    \"Province \",\n",
    "    \"Channel\",\n",
    "    \"Store ID\",\n",
    "    \"Ship Mode\",\n",
    "    \"Shipper\",\n",
    "]\n",
    "\n",
    "# Loop over the columns and count unique values for each customer\n",
    "for column in columns_to_count_unique:\n",
    "    unique_counts = (\n",
    "        df.groupby(\"Customer ID\")[column].nunique().reset_index(name=\"count\")\n",
    "    )\n",
    "\n",
    "    # If any customer has a count > 1 for the column, store the count for the entire column\n",
    "    if unique_counts[\"count\"].max() > 1:\n",
    "        unique_counts[f\"{column} Unique Counts\"] = unique_counts[\"count\"]\n",
    "    # If all customers have a count of 1, store the value\n",
    "    else:\n",
    "        last_order_value = (\n",
    "            df.sort_values(\"Order Date\", ascending=False)\n",
    "            .groupby(\"Customer ID\")[column]\n",
    "            .first()\n",
    "            .reset_index()\n",
    "        )\n",
    "        # Merge last_order_value with unique_counts\n",
    "        unique_counts = pd.merge(unique_counts, last_order_value, on=\"Customer ID\")\n",
    "\n",
    "    # Drop the 'count' column\n",
    "    unique_counts.drop(columns=[\"count\"], inplace=True)\n",
    "\n",
    "    # Merge this dataframe with customer_profile\n",
    "    customer_profile = pd.merge(\n",
    "        customer_profile, unique_counts, on=\"Customer ID\", how=\"left\"\n",
    "    )"
   ]
  },
  {
   "cell_type": "code",
   "execution_count": 12,
   "metadata": {},
   "outputs": [
    {
     "name": "stdout",
     "output_type": "stream",
     "text": [
      "Is Churn                      1.000000\n",
      "Recency                       0.684327\n",
      "Duration                      0.434756\n",
      "Product ID Unique Counts      0.345918\n",
      "Frequency                     0.328153\n",
      "Total Shipping Cost           0.319008\n",
      "Vendor Name Unique Counts     0.308394\n",
      "Total Quantity                0.301067\n",
      "Sub-Category Unique Counts    0.281525\n",
      "Channel Unique Counts         0.265276\n",
      "Total Revenue                 0.255802\n",
      "Total Profit                  0.249406\n",
      "Total Discount                0.242863\n",
      "Category Unique Counts        0.128804\n",
      "Region                        0.063581\n",
      "Shipper                       0.049222\n",
      "Province                      0.042121\n",
      "Store ID                      0.033140\n",
      "Customer Type                 0.030386\n",
      "Member card                   0.011077\n",
      "Ship Mode Unique Counts       0.007648\n",
      "Customer ID                   0.005934\n",
      "Average Shipping Duration     0.002812\n",
      "Segment                       0.001930\n",
      "Name: Is Churn, dtype: float64\n"
     ]
    }
   ],
   "source": [
    "categorical_columns = [\n",
    "    \"Customer ID\",\n",
    "    \"Segment\",\n",
    "    \"Customer Type\",\n",
    "    \"Member card\",\n",
    "    \"Region\",\n",
    "    \"Province \",\n",
    "    \"Store ID\",\n",
    "    \"Shipper\",\n",
    "]\n",
    "\n",
    "customer_profile_encoded = customer_profile.copy()\n",
    "\n",
    "from sklearn.preprocessing import LabelEncoder\n",
    "\n",
    "# Initialize a LabelEncoder\n",
    "le = LabelEncoder()\n",
    "\n",
    "# Loop over categorical columns\n",
    "for column in categorical_columns:\n",
    "    # Perform label encoding on the column\n",
    "    customer_profile_encoded[column] = le.fit_transform(\n",
    "        customer_profile_encoded[column]\n",
    "    )\n",
    "\n",
    "# Compute pairwise correlation of columns\n",
    "correlation = customer_profile_encoded.corr()\n",
    "\n",
    "# Get absolute correlation of each feature with 'is_churn'\n",
    "correlation_with_churn = correlation[\"Is Churn\"].apply(abs).sort_values(ascending=False)\n",
    "\n",
    "# Display correlation with 'is_churn'\n",
    "print(correlation_with_churn)\n",
    "\n",
    "# Features with high correlation values are more likely to be good predictors for 'is_churn'.\n",
    "# However, correlation is just a statistical measure and does not imply causation.\n",
    "# Other factors such as the relevance of the feature to the target variable\n",
    "# and the presence of potential confounding variables should also be considered when selecting features for prediction."
   ]
  },
  {
   "cell_type": "code",
   "execution_count": 13,
   "metadata": {},
   "outputs": [
    {
     "name": "stdout",
     "output_type": "stream",
     "text": [
      "p-value for Customer ID and is_churn: 0.4832925144513759\n",
      "p-value for Segment and is_churn: 0.6224193645569119\n",
      "p-value for Customer Type and is_churn: 0.4710628352286026\n",
      "p-value for Member card and is_churn: 0.623672542113394\n",
      "p-value for Region and is_churn: 0.05106072847758608\n",
      "p-value for Province  and is_churn: 0.4780352434046118\n",
      "p-value for Store ID and is_churn: 0.3236302705592054\n",
      "p-value for Shipper and is_churn: 0.3292529308330088\n"
     ]
    }
   ],
   "source": [
    "from scipy.stats import chi2_contingency\n",
    "\n",
    "# Loop over categorical columns\n",
    "for column in categorical_columns:\n",
    "    # Create a contingency table\n",
    "    contingency_table = pd.crosstab(\n",
    "        customer_profile[column], customer_profile[\"Is Churn\"]\n",
    "    )\n",
    "\n",
    "    # Perform Chi-Square test of independence\n",
    "    chi2, p, dof, expected = chi2_contingency(contingency_table)\n",
    "\n",
    "    # Print p-value\n",
    "    print(f\"p-value for {column} and is_churn: {p}\")\n",
    "\n",
    "# This code loops over the categorical columns,\n",
    "# creates a contingency table for each column and 'is_churn',\n",
    "# and performs a Chi-Square test of independence.\n",
    "# The p-value for each test is printed out.\n",
    "# A small p-value (typically ≤ 0.05) indicates strong evidence\n",
    "# that the column is associated with 'is_churn'."
   ]
  }
 ],
 "metadata": {
  "kernelspec": {
   "display_name": "digital-marketing-analyst-W9lIl_1h-py3.11",
   "language": "python",
   "name": "python3"
  },
  "language_info": {
   "codemirror_mode": {
    "name": "ipython",
    "version": 3
   },
   "file_extension": ".py",
   "mimetype": "text/x-python",
   "name": "python",
   "nbconvert_exporter": "python",
   "pygments_lexer": "ipython3",
   "version": "3.11.8"
  }
 },
 "nbformat": 4,
 "nbformat_minor": 2
}

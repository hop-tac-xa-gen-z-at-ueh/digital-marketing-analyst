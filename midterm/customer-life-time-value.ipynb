{
 "cells": [
  {
   "cell_type": "code",
   "execution_count": 1,
   "metadata": {},
   "outputs": [],
   "source": [
    "import pandas as pd"
   ]
  },
  {
   "cell_type": "code",
   "execution_count": 2,
   "metadata": {},
   "outputs": [
    {
     "name": "stdout",
     "output_type": "stream",
     "text": [
      "Churn rate: 1.64%\n"
     ]
    }
   ],
   "source": [
    "# Read the CSV file into a DataFrame: df\n",
    "df = pd.read_csv(\"supermarket.csv\")\n",
    "\n",
    "# Calculate the total number of unique customers\n",
    "total_customers = df[\"Customer ID\"].nunique()\n",
    "\n",
    "# Calculate the number of customers who made a repeat purchase\n",
    "repeat_customers = df.groupby(\"Customer ID\")[\"Order ID\"].nunique().gt(1).sum()\n",
    "\n",
    "# Calculate the churn rate\n",
    "churn_rate = (total_customers - repeat_customers) / total_customers\n",
    "\n",
    "# Print the churn rate\n",
    "print(f\"Churn rate: {churn_rate:.2%}\")"
   ]
  },
  {
   "cell_type": "code",
   "execution_count": 3,
   "metadata": {},
   "outputs": [
    {
     "name": "stdout",
     "output_type": "stream",
     "text": [
      "The average discount rate is: 4.983072839870244\n"
     ]
    }
   ],
   "source": [
    "# Calculate the average discount rate\n",
    "discount_rate = df['Discount'].mean()\n",
    "\n",
    "print(f\"The average discount rate is: {discount_rate}\")"
   ]
  },
  {
   "cell_type": "code",
   "execution_count": 4,
   "metadata": {},
   "outputs": [
    {
     "name": "stdout",
     "output_type": "stream",
     "text": [
      "    Customer ID  Contribution Margin\n",
      "0      AA-10315          43218.60485\n",
      "1      AA-10375          52989.34784\n",
      "2      AA-10480          64631.47822\n",
      "3      AA-10645         138143.07398\n",
      "4      AB-10015          11515.56488\n",
      "..          ...                  ...\n",
      "787    XP-21865         146189.36128\n",
      "788    YC-21895          42639.64468\n",
      "789    YS-21880         103310.77092\n",
      "790    ZC-21910         188331.91063\n",
      "791    ZD-21925          81356.19510\n",
      "\n",
      "[792 rows x 2 columns]\n"
     ]
    }
   ],
   "source": [
    "# Calculate the Contribution Margin per order\n",
    "df['Contribution Margin'] = df['Revenue'] - (df['COGS'] + df['Expense'] + df['Discount'] + df['Shipping cost'])\n",
    "\n",
    "# Calculate the Contribution Margin per customer\n",
    "clv_grouped = df.groupby('Customer ID').agg({'Contribution Margin': 'sum'}).reset_index()\n",
    "\n",
    "# Print the Contribution Margin per customer\n",
    "print(clv_grouped)"
   ]
  },
  {
   "cell_type": "code",
   "execution_count": 5,
   "metadata": {},
   "outputs": [
    {
     "data": {
      "text/html": [
       "<div>\n",
       "<style scoped>\n",
       "    .dataframe tbody tr th:only-of-type {\n",
       "        vertical-align: middle;\n",
       "    }\n",
       "\n",
       "    .dataframe tbody tr th {\n",
       "        vertical-align: top;\n",
       "    }\n",
       "\n",
       "    .dataframe thead th {\n",
       "        text-align: right;\n",
       "    }\n",
       "</style>\n",
       "<table border=\"1\" class=\"dataframe\">\n",
       "  <thead>\n",
       "    <tr style=\"text-align: right;\">\n",
       "      <th></th>\n",
       "      <th>Customer ID</th>\n",
       "      <th>Contribution Margin</th>\n",
       "      <th>CLV</th>\n",
       "    </tr>\n",
       "  </thead>\n",
       "  <tbody>\n",
       "    <tr>\n",
       "      <th>0</th>\n",
       "      <td>AA-10315</td>\n",
       "      <td>43218.60485</td>\n",
       "      <td>8701.746481</td>\n",
       "    </tr>\n",
       "    <tr>\n",
       "      <th>1</th>\n",
       "      <td>AA-10375</td>\n",
       "      <td>52989.34784</td>\n",
       "      <td>10669.013326</td>\n",
       "    </tr>\n",
       "    <tr>\n",
       "      <th>2</th>\n",
       "      <td>AA-10480</td>\n",
       "      <td>64631.47822</td>\n",
       "      <td>13013.070183</td>\n",
       "    </tr>\n",
       "    <tr>\n",
       "      <th>3</th>\n",
       "      <td>AA-10645</td>\n",
       "      <td>138143.07398</td>\n",
       "      <td>27814.086364</td>\n",
       "    </tr>\n",
       "    <tr>\n",
       "      <th>4</th>\n",
       "      <td>AB-10015</td>\n",
       "      <td>11515.56488</td>\n",
       "      <td>2318.573830</td>\n",
       "    </tr>\n",
       "    <tr>\n",
       "      <th>...</th>\n",
       "      <td>...</td>\n",
       "      <td>...</td>\n",
       "      <td>...</td>\n",
       "    </tr>\n",
       "    <tr>\n",
       "      <th>787</th>\n",
       "      <td>XP-21865</td>\n",
       "      <td>146189.36128</td>\n",
       "      <td>29434.146809</td>\n",
       "    </tr>\n",
       "    <tr>\n",
       "      <th>788</th>\n",
       "      <td>YC-21895</td>\n",
       "      <td>42639.64468</td>\n",
       "      <td>8585.177132</td>\n",
       "    </tr>\n",
       "    <tr>\n",
       "      <th>789</th>\n",
       "      <td>YS-21880</td>\n",
       "      <td>103310.77092</td>\n",
       "      <td>20800.859731</td>\n",
       "    </tr>\n",
       "    <tr>\n",
       "      <th>790</th>\n",
       "      <td>ZC-21910</td>\n",
       "      <td>188331.91063</td>\n",
       "      <td>37919.237472</td>\n",
       "    </tr>\n",
       "    <tr>\n",
       "      <th>791</th>\n",
       "      <td>ZD-21925</td>\n",
       "      <td>81356.19510</td>\n",
       "      <td>16380.468246</td>\n",
       "    </tr>\n",
       "  </tbody>\n",
       "</table>\n",
       "<p>792 rows × 3 columns</p>\n",
       "</div>"
      ],
      "text/plain": [
       "    Customer ID  Contribution Margin           CLV\n",
       "0      AA-10315          43218.60485   8701.746481\n",
       "1      AA-10375          52989.34784  10669.013326\n",
       "2      AA-10480          64631.47822  13013.070183\n",
       "3      AA-10645         138143.07398  27814.086364\n",
       "4      AB-10015          11515.56488   2318.573830\n",
       "..          ...                  ...           ...\n",
       "787    XP-21865         146189.36128  29434.146809\n",
       "788    YC-21895          42639.64468   8585.177132\n",
       "789    YS-21880         103310.77092  20800.859731\n",
       "790    ZC-21910         188331.91063  37919.237472\n",
       "791    ZD-21925          81356.19510  16380.468246\n",
       "\n",
       "[792 rows x 3 columns]"
      ]
     },
     "execution_count": 5,
     "metadata": {},
     "output_type": "execute_result"
    }
   ],
   "source": [
    "\n",
    "# Calculate CLV for each customer\n",
    "clv_grouped['CLV'] = clv_grouped['Contribution Margin'] / (discount_rate - churn_rate)\n",
    "\n",
    "clv_grouped\n",
    "\n",
    "# Save the dataframe to a new CSV file\n",
    "# clv_grouped.to_csv('customer_clv.csv', index=False)"
   ]
  }
 ],
 "metadata": {
  "kernelspec": {
   "display_name": "digital-marketing-analyst-W9lIl_1h-py3.11",
   "language": "python",
   "name": "python3"
  },
  "language_info": {
   "codemirror_mode": {
    "name": "ipython",
    "version": 3
   },
   "file_extension": ".py",
   "mimetype": "text/x-python",
   "name": "python",
   "nbconvert_exporter": "python",
   "pygments_lexer": "ipython3",
   "version": "3.11.8"
  }
 },
 "nbformat": 4,
 "nbformat_minor": 2
}

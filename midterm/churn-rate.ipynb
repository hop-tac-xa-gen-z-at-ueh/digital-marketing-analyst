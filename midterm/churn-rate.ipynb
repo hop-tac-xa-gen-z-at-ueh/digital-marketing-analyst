{
 "cells": [
  {
   "cell_type": "code",
   "execution_count": 1,
   "id": "33e7df2f-0000-42e4-a5b4-a1c67c890144",
   "metadata": {},
   "outputs": [],
   "source": [
    "import pandas as pd"
   ]
  },
  {
   "cell_type": "code",
   "execution_count": 2,
   "id": "669ab680-797f-4aaa-bddb-55181e41dcd3",
   "metadata": {},
   "outputs": [],
   "source": [
    "# Read the CSV file into a DataFrame: df\n",
    "df = pd.read_csv(\"supermarket.csv\")\n",
    "\n",
    "# Calculate the total number of unique customers\n",
    "total_customers = df[\"Customer ID\"].nunique()\n",
    "\n",
    "# Calculate the number of customers who made a repeat purchase\n",
    "repeat_customers = df.groupby(\"Customer ID\")[\"Order ID\"].nunique().gt(1).sum()"
   ]
  },
  {
   "cell_type": "code",
   "execution_count": 3,
   "id": "296e0f20",
   "metadata": {},
   "outputs": [
    {
     "name": "stdout",
     "output_type": "stream",
     "text": [
      "repeat_customers = 779\n",
      "total_customers = 792\n"
     ]
    }
   ],
   "source": [
    "print(f\"repeat_customers = {repeat_customers}\")\n",
    "print(f\"total_customers = {total_customers}\")"
   ]
  },
  {
   "cell_type": "code",
   "execution_count": 4,
   "id": "4eaa1264",
   "metadata": {},
   "outputs": [
    {
     "name": "stdout",
     "output_type": "stream",
     "text": [
      "Churn rate: 1.64%\n"
     ]
    }
   ],
   "source": [
    "# Calculate the churn rate\n",
    "churn_rate = (total_customers - repeat_customers) / total_customers\n",
    "\n",
    "# Print the churn rate\n",
    "print(f\"Churn rate: {churn_rate:.2%}\")"
   ]
  }
 ],
 "metadata": {
  "kernelspec": {
   "display_name": "Python 3 (ipykernel)",
   "language": "python",
   "name": "python3"
  },
  "language_info": {
   "codemirror_mode": {
    "name": "ipython",
    "version": 3
   },
   "file_extension": ".py",
   "mimetype": "text/x-python",
   "name": "python",
   "nbconvert_exporter": "python",
   "pygments_lexer": "ipython3",
   "version": "3.11.8"
  }
 },
 "nbformat": 4,
 "nbformat_minor": 5
}

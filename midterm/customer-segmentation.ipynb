{
 "cells": [
  {
   "cell_type": "code",
   "execution_count": 6,
   "metadata": {},
   "outputs": [],
   "source": [
    "import pandas as pd\n",
    "import numpy as np"
   ]
  },
  {
   "cell_type": "code",
   "execution_count": 7,
   "metadata": {},
   "outputs": [],
   "source": [
    "# Load the data\n",
    "df = pd.read_csv(\"supermarket.csv\")\n",
    "\n",
    "# Convert the order date to datetime\n",
    "df[\"Order Date\"] = pd.to_datetime(df[\"Order Date\"])"
   ]
  },
  {
   "cell_type": "code",
   "execution_count": 8,
   "metadata": {},
   "outputs": [
    {
     "name": "stdout",
     "output_type": "stream",
     "text": [
      "             Recency  Frequency  MonetaryValue\n",
      "Customer ID                                   \n",
      "AA-10315         184         18      66982.841\n",
      "AA-10375          53         25      82799.409\n",
      "AA-10480         339         22      96832.700\n",
      "AA-10645         330         29     196021.827\n",
      "AB-10015         263          8      18814.792\n"
     ]
    }
   ],
   "source": [
    "# Define the snapshot date as the max Order Date + 1 day\n",
    "snapshot_date = df[\"Order Date\"].max() + pd.Timedelta(days=1)\n",
    "\n",
    "# Recency is calculated as the number of days between the customer's latest order and the most recent order in the dataset.\n",
    "# Frequency is calculated as the number of orders made by the customer.\n",
    "# Monetary Value is calculated as the total sales from the customer.\n",
    "\n",
    "# Calculate Recency, Frequency and Monetary value for each customer\n",
    "rfm = df.groupby(\"Customer ID\").agg(\n",
    "    {\n",
    "        \"Order Date\": lambda x: (snapshot_date - x.max()).days,  # Recency\n",
    "        \"Order ID\": \"count\",  # Frequency\n",
    "        \"Sales\": \"sum\",  # Monetary Value\n",
    "    }\n",
    ")\n",
    "\n",
    "# Rename the columns\n",
    "rfm.rename(\n",
    "    columns={\n",
    "        \"Order Date\": \"Recency\",\n",
    "        \"Order ID\": \"Frequency\",\n",
    "        \"Sales\": \"MonetaryValue\",\n",
    "    },\n",
    "    inplace=True,\n",
    ")\n",
    "\n",
    "# Print the first few rows to verify\n",
    "print(rfm.head())"
   ]
  },
  {
   "cell_type": "code",
   "execution_count": 9,
   "metadata": {},
   "outputs": [
    {
     "name": "stdout",
     "output_type": "stream",
     "text": [
      "             Recency  Frequency  MonetaryValue  R  F  M RFM_Segment  RFM_Score\n",
      "Customer ID                                                                   \n",
      "AA-10315         184         18      66982.841  2  2  1   2.02.01.0          5\n",
      "AA-10375          53         25      82799.409  3  3  2   3.03.02.0          8\n",
      "AA-10480         339         22      96832.700  1  3  2   1.03.02.0          6\n",
      "AA-10645         330         29     196021.827  1  4  4   1.04.04.0          9\n",
      "AB-10015         263          8      18814.792  1  1  1   1.01.01.0          3\n"
     ]
    }
   ],
   "source": [
    "# Create labels for Recency, Frequency and MonetaryValue\n",
    "r_labels = range(4, 0, -1)\n",
    "f_labels = range(1, 5)\n",
    "m_labels = range(1, 5)\n",
    "\n",
    "# Assign these labels to four equal percentile groups\n",
    "r_groups = pd.qcut(rfm[\"Recency\"], q=4, labels=r_labels)\n",
    "f_groups = pd.qcut(rfm[\"Frequency\"], q=4, labels=f_labels)\n",
    "m_groups = pd.qcut(rfm[\"MonetaryValue\"], q=4, labels=m_labels)\n",
    "\n",
    "# Create new columns R, F, M in the dataframe\n",
    "rfm = rfm.assign(R=r_groups.values, F=f_groups.values, M=m_groups.values)\n",
    "\n",
    "# Concatenate RFM quartile values to RFM_Segment\n",
    "rfm[\"RFM_Segment\"] = rfm.apply(\n",
    "    lambda x: str(x[\"R\"]) + str(x[\"F\"]) + str(x[\"M\"]), axis=1\n",
    ")\n",
    "\n",
    "# Sum RFM quartiles values to RFM_Score\n",
    "rfm[\"RFM_Score\"] = rfm[[\"R\", \"F\", \"M\"]].sum(axis=1)\n",
    "\n",
    "print(rfm.head())"
   ]
  },
  {
   "cell_type": "code",
   "execution_count": 10,
   "metadata": {},
   "outputs": [
    {
     "name": "stdout",
     "output_type": "stream",
     "text": [
      "             Recency  Frequency  MonetaryValue  R  F  M RFM_Segment  \\\n",
      "Customer ID                                                           \n",
      "AA-10315         184         18      66982.841  2  2  1   2.02.01.0   \n",
      "AA-10375          53         25      82799.409  3  3  2   3.03.02.0   \n",
      "AA-10480         339         22      96832.700  1  3  2   1.03.02.0   \n",
      "AA-10645         330         29     196021.827  1  4  4   1.04.04.0   \n",
      "AB-10015         263          8      18814.792  1  1  1   1.01.01.0   \n",
      "\n",
      "             RFM_Score           RFM_Level  \n",
      "Customer ID                                 \n",
      "AA-10315             5  Low Value Customer  \n",
      "AA-10375             8  Mid Value Customer  \n",
      "AA-10480             6  Mid Value Customer  \n",
      "AA-10645             9  Mid Value Customer  \n",
      "AB-10015             3  Low Value Customer  \n"
     ]
    }
   ],
   "source": [
    "# Define rfm_level function\n",
    "def rfm_level(df):\n",
    "    if df[\"RFM_Score\"] >= 10:\n",
    "        return \"High Value Customer\"\n",
    "    elif (df[\"RFM_Score\"] < 10) & (df[\"RFM_Score\"] >= 6):\n",
    "        return \"Mid Value Customer\"\n",
    "    else:\n",
    "        return \"Low Value Customer\"\n",
    "\n",
    "\n",
    "# Create a new variable RFM_Level\n",
    "rfm[\"RFM_Level\"] = rfm.apply(rfm_level, axis=1)\n",
    "\n",
    "# Print the header with top 5 rows to the console\n",
    "print(rfm.head())"
   ]
  }
 ],
 "metadata": {
  "kernelspec": {
   "display_name": "digital-marketing-analyst-W9lIl_1h-py3.11",
   "language": "python",
   "name": "python3"
  },
  "language_info": {
   "codemirror_mode": {
    "name": "ipython",
    "version": 3
   },
   "file_extension": ".py",
   "mimetype": "text/x-python",
   "name": "python",
   "nbconvert_exporter": "python",
   "pygments_lexer": "ipython3",
   "version": "3.11.8"
  }
 },
 "nbformat": 4,
 "nbformat_minor": 2
}

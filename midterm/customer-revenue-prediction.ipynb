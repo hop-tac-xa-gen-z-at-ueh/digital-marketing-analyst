{
 "cells": [
  {
   "cell_type": "code",
   "execution_count": 1,
   "metadata": {},
   "outputs": [],
   "source": [
    "import pandas as pd"
   ]
  },
  {
   "cell_type": "code",
   "execution_count": 2,
   "metadata": {},
   "outputs": [],
   "source": [
    "# Load the data\n",
    "df = pd.read_csv(\"supermarket.csv\")\n",
    "\n",
    "# Convert the order date to datetime\n",
    "df[\"Order Date\"] = pd.to_datetime(df[\"Order Date\"])"
   ]
  },
  {
   "cell_type": "code",
   "execution_count": 3,
   "metadata": {},
   "outputs": [],
   "source": [
    "# Extract year from 'order_date'\n",
    "df[\"year\"] = df[\"Order Date\"].dt.year\n",
    "\n",
    "# Filter for the year 2015\n",
    "df_2015 = df[df[\"year\"] == 2015]\n",
    "\n",
    "# Calculate total revenue per customer for 2015\n",
    "total_revenue_2015 = (\n",
    "    df_2015.groupby(\"Customer ID\")[\"Revenue\"].sum().reset_index(name=\"revenue_2015\")\n",
    ")\n",
    "\n",
    "# Calculate average order value per customer for 2015\n",
    "average_order_value_2015 = (\n",
    "    df_2015.groupby(\"Customer ID\")[\"Revenue\"]\n",
    "    .mean()\n",
    "    .reset_index(name=\"average_order_value_2015\")\n",
    ")\n",
    "\n",
    "# Calculate total number of purchases per customer for 2015\n",
    "total_purchases_2015 = (\n",
    "    df_2015.groupby(\"Customer ID\").size().reset_index(name=\"total_purchases_2015\")\n",
    ")\n",
    "\n",
    "# Find the most recent purchase date per customer for 2015\n",
    "most_recent_purchase_2015 = df_2015.groupby(\"Customer ID\")[\"Order Date\"].max()\n",
    "\n",
    "# Calculate the number of days since the most recent purchase from the last day of 2015\n",
    "days_since_purchase = (pd.Timestamp(\"2015-12-31\") - most_recent_purchase_2015).dt.days\n",
    "\n",
    "df_days_since_purchase = pd.DataFrame(days_since_purchase).reset_index()\n",
    "df_days_since_purchase.columns = [\"Customer ID\", \"days_since_last_purchase_2015\"]\n",
    "\n",
    "# Find the first purchase date per customer\n",
    "first_purchase = df.groupby(\"Customer ID\")[\"Order Date\"].min()\n",
    "\n",
    "# Calculate the number of days since the first purchase from the last day of 2015\n",
    "days_since_first_purchase = (pd.Timestamp(\"2015-12-31\") - first_purchase).dt.days\n",
    "\n",
    "# Create a new DataFrame\n",
    "df_days_since_first_purchase = pd.DataFrame(days_since_first_purchase).reset_index()\n",
    "df_days_since_first_purchase.columns = [\n",
    "    \"Customer ID\",\n",
    "    \"days_since_first_purchase_till_2015\",\n",
    "]\n",
    "\n",
    "df_2016 = df[df[\"year\"] == 2016]\n",
    "\n",
    "# Calculate total revenue per customer for 2015\n",
    "total_revenue_2016 = (\n",
    "    df_2016.groupby(\"Customer ID\")[\"Revenue\"].sum().reset_index(name=\"revenue_2016\")\n",
    ")\n",
    "\n",
    "customer_revenue = total_revenue_2016.merge(\n",
    "    total_revenue_2015, on=\"Customer ID\", how=\"inner\"\n",
    ")\n",
    "customer_revenue = customer_revenue.merge(\n",
    "    average_order_value_2015, on=\"Customer ID\", how=\"inner\"\n",
    ")\n",
    "customer_revenue = customer_revenue.merge(\n",
    "    total_purchases_2015, on=\"Customer ID\", how=\"inner\"\n",
    ")\n",
    "customer_revenue = customer_revenue.merge(\n",
    "    df_days_since_purchase, on=\"Customer ID\", how=\"inner\"\n",
    ")\n",
    "customer_revenue = customer_revenue.merge(\n",
    "    df_days_since_first_purchase, on=\"Customer ID\", how=\"inner\"\n",
    ")"
   ]
  },
  {
   "cell_type": "code",
   "execution_count": 4,
   "metadata": {},
   "outputs": [],
   "source": [
    "# customer_revenue"
   ]
  },
  {
   "cell_type": "code",
   "execution_count": 5,
   "metadata": {},
   "outputs": [
    {
     "name": "stdout",
     "output_type": "stream",
     "text": [
      "Feature: revenue_2015, Rank: 1\n",
      "Feature: average_order_value_2015, Rank: 1\n",
      "Feature: total_purchases_2015, Rank: 1\n",
      "Feature: days_since_last_purchase_2015, Rank: 1\n",
      "Feature: days_since_first_purchase_till_2015, Rank: 1\n"
     ]
    }
   ],
   "source": [
    "from sklearn.feature_selection import RFE\n",
    "from sklearn.linear_model import LinearRegression\n",
    "from sklearn.model_selection import train_test_split\n",
    "\n",
    "x_cols = customer_revenue.columns[2:]\n",
    "X = customer_revenue[x_cols]\n",
    "y = customer_revenue[\"revenue_2016\"]\n",
    "\n",
    "X_train, X_test, y_train, y_test = train_test_split(X, y, random_state=10)\n",
    "rfe = RFE(estimator=LinearRegression(), n_features_to_select=5)\n",
    "rfe.fit(X_train, y_train)\n",
    "for featureNum in range(X_train.shape[1]):\n",
    "    # If feature was selected\n",
    "    if rfe.support_[featureNum] == True:\n",
    "        # Print feature name and rank\n",
    "        print(\n",
    "            \"Feature: {}, Rank: {}\".format(\n",
    "                X_train.columns[featureNum], rfe.ranking_[featureNum]\n",
    "            )\n",
    "        )"
   ]
  },
  {
   "cell_type": "code",
   "execution_count": 6,
   "metadata": {},
   "outputs": [
    {
     "name": "stdout",
     "output_type": "stream",
     "text": [
      "22057.037433420915\n"
     ]
    }
   ],
   "source": [
    "from sklearn.metrics import mean_squared_error\n",
    "\n",
    "rfe_model = LinearRegression()\n",
    "rfe_model.fit(X_train, y_train)\n",
    "rfe_predictions = rfe_model.predict(X_test)\n",
    "print(mean_squared_error(rfe_predictions, y_test) ** 0.5)"
   ]
  }
 ],
 "metadata": {
  "kernelspec": {
   "display_name": "digital-marketing-analyst-W9lIl_1h-py3.11",
   "language": "python",
   "name": "python3"
  },
  "language_info": {
   "codemirror_mode": {
    "name": "ipython",
    "version": 3
   },
   "file_extension": ".py",
   "mimetype": "text/x-python",
   "name": "python",
   "nbconvert_exporter": "python",
   "pygments_lexer": "ipython3",
   "version": "3.11.8"
  }
 },
 "nbformat": 4,
 "nbformat_minor": 2
}
